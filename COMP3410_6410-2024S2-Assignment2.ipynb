{
 "cells": [
  {
   "cell_type": "markdown",
   "id": "f91d88de",
   "metadata": {},
   "source": [
    "#### COMP3410/COMP6410 Knowledge, Planning and Decision Making under Uncertainty (2024 S2)\n",
    "\n",
    "<hr>"
   ]
  },
  {
   "cell_type": "markdown",
   "id": "0ccacecb",
   "metadata": {},
   "source": [
    "# Assignment 2\n",
    "\n",
    "As part of this assignment, you will develop solutions to optimize disaster response operations using the techniques covered in the lecture series. Your task is to implement and test algorithms for path planning, decision-making, and multi-agent coordination in a simulated rescue scenario. Additionally, you will need to propose a project title that summarizes your designed solution, which will be a small part of the assignment as well.\n",
    "\n",
    "## Introduction\n",
    "\n",
    "Natural disasters often require quick and efficient rescue operations to minimize casualties and damage. In this assignment, you will use the concepts from **Adversarial Games and Multi-Agent Systems (Weeks 7-9)** and **Uncertainty in AI (Weeks 10-11)** to create solutions for a disaster response simulation.\n",
    "\n",
    "You will focus on applying genetic algorithms, ant colony optimization, the Minmax algorithm with alpha-beta pruning and its enhancements, multi-agent systems, game theory, and Bayesian networks. These methods will help you simulate decision-making in multi-agent rescue operations. While your solution should be grounded in the lecture material, you are encouraged to explore improvements for computational efficiency including your own design of advanced modifications to enhance performance and effectiveness."
   ]
  },
  {
   "cell_type": "markdown",
   "id": "9220620f",
   "metadata": {},
   "source": [
    "## Simulation Scenario\n",
    "\n",
    "An earthquake has struck NovaCity, causing widespread destruction, including fires, and road blockages. Emergency response teams need to be coordinated for rescue operations. \n",
    "\n",
    "The city is divided into **5 regions (R1 to R5)**. Each region has an evaluated **damage level** according to its blocked roads and fires: \n",
    "- High damage (H): $>=50\\%$ roads blocked, or $>=30\\%$ fires; \n",
    "- Medium damage (M): $[10\\%, 50\\%)$ roads blocked, or $[10\\%, 30\\%)$ fires; and \n",
    "- Low damage (L): $<10\\%$ roads blocked, or $<10\\%$ fires. \n",
    "\n",
    "Either blocked roads or fires that reach the range can be considered its damage level. For example, a region with 30\\% road blocks and 5\\% fires is Medium damaged. \n",
    "\n",
    "The **initial damage** to each region is provided: \n",
    "- R1 (H): 60\\% roads blocked, 35\\% fires; \n",
    "- R2 (M): 40\\% roads blocked, 25\\% fires;\n",
    "- R3 (M): 15\\% roads blocked, 5\\% fires; \n",
    "- R4 (H): 35\\% roads blocked, 30\\% fires; and \n",
    "- R5 (L): 5\\% roads blocked, 3\\% fires.\n",
    "\n",
    "Assume all regions are of equal size to simplify the modelling process. Each region is modelled as a **node** in a graph, and predefined **distances** between regions (e.g., 5 km between R1 and R2, 3 km between R2 and R3) are detailed: R1 -- R2: 5 km, R1 -- R3: 7 km, R1 -- R4: 4 km, R1 -- R5: 6 km, R2 -- R3: 3 km, R2 -- R4: 4 km, R2 -- R5: 8 km, R3 -- R4: 5 km, R3 -- R5: 6 km, and R4 -- R5: 4 km.\n",
    "\n",
    "During the rescue, each region will continue to experience fire spread and aftershocks. Fires spread every 10 minutes within the same region, increasing the fire percentage by 10\\%. Aftershocks occur randomly every 15 minutes increasing road blockages by 10\\% over all regions. For example, in R1, the initial damage is 60\\% roads blocked and 35\\% fires. After 10 minutes, it becomes $(60\\%, 45\\%)$, and after an additional 5 minutes, it becomes $(70\\%, 45\\%)$ if no rescue operations are performed.\n",
    "\n",
    "Rescue agents are distributed across regions at the start of the simulation. **Eight units of fire trucks start at R2.** Each fire truck unit decreases fire percentage by 10\\% per rescue operation. **Six units of police start at R4.** Each police unit decreases road blockages by 10\\% per rescue operation. Multiple agents/units can perform rescue operations at the same time in the same region. The effects of their actions are cumulative. For example, if 2 fire trucks are deployed to R1 simultaneously, the fire percentage decreases by 20\\% in one operation. Rescue operations affect the regional damage directly. If a fire truck reduces fire percentage by 10\\%, that 10\\% decrease is applied to the overall fire damage in that region, e.g., $20\\%-10\\%=10\\%$. \n",
    "\n",
    "**Assumption:** Both rescue operations and disaster events (fire spread and aftershocks) do not consume time in this simulation, but each unit can only perform rescue once when visiting the region. Rescue agents will not lose resources along a path, and all operations will occur instantly for the purpose of modelling. However, the effects of disasters and rescues will still be cumulative over time. Rescue agents aim to follow a path that covers all regions, ensuring each region is visited only once. After completing their assigned rescue tasks along the path, they must return to their starting point for a refill.\n",
    "\n",
    "**Travel Speed:** Rescue agents can travel at a maximum speed of 60 km/h on unblocked roads. If roads are blocked, their speed will be reduced according to the percentage of blocked roads in the region they are traveling to or from. The travel speed between two regions is determined by the average percentage of blocked roads in both regions. For example, if R1 has 60\\% blocked roads and R2 has 40\\% blocked roads, the average blocked road percentage is $(60\\% + 40\\%) / 2 = 50\\%$. The travel speed will then be reduced by 50\\%, resulting in a travel speed of 30 km/h. Rescue agents won’t block each other. Fire damage will not affect travel speed. \n",
    "\n",
    "Rescue operations must be completed within 90 minutes and the sooner the better. You need to allocate resources efficiently, prioritize critical regions, and adapt to changing conditions like fire spread and aftershocks. Rescue agents must quickly respond to new blockages and worsening fires, adjusting strategies to minimize delays."
   ]
  },
  {
   "cell_type": "markdown",
   "id": "48cf2111",
   "metadata": {},
   "source": [
    "## Task Breakdown and their Objectives\n",
    "\n",
    "1. **Genetic Algorithms for Path Optimization**: Implement a genetic algorithm to design and develop efficient pathfinding algorithms that help rescue agents navigate disaster environments quickly and effectively. The implementation should use multiple successors to improve path selection and minimize overall rescue time.\n",
    "\n",
    "2. **Ant Colony Optimization (ACO) for Multi-Agent Coordination**:  Simulate how each rescue unit (e.g., polices and fire trucks) employs ACO to coordinate their movements to find their optimal paths. Assume agents can communicate in real time to share updated road and fire conditions once they arrive at the scene. The simulation should dynamically update “pheromone levels” as new road blockages or fires occur, improving the collaboration of multi-agent systems to ensure optimal use of resources and timely responses in disaster scenarios.\n",
    "\n",
    "3. **Minmax Algorithm with Alpha-Beta Pruning and Enhancements**: Implement the Minmax algorithm with Alpha-Beta Pruning to improve decision-making in competitive rescue scenarios, e.g., rescue agent vs fire spread/aftershock. Additionally, explore further computational enhancements, such as negamax or other advanced modifications of your design, to optimize the evaluation of rescue strategies, e.g, the number of units should be assigned to the same location, and improve decision-making efficiency.\n",
    "\n",
    "4. **Game Theory for Multi-Agent Systems**: Model an uncertain strategy by assigning predefined parameters specific values using game theory. Identify an appropriate equilibrium (such as Nash equilibrium, dominant strategy equilibrium, or another relevant concept) to maximize overall success.\n",
    "\n",
    "5. **Bayesian Networks for Uncertain Inferences**: Develop Bayesian networks to handle uncertainties in rescue operations, such as fire spread or road blockages. Use Conditional Probability Tables (CPTs) to model incomplete information and support agents in making better-informed decisions under evolving conditions.\n",
    "\n",
    "The objectives may not be developed in sequence. As you work through the assignment, keep the overall design of the solution in mind and carefully consider where each method or solution best fits to achieve the overall project goals."
   ]
  },
  {
   "cell_type": "markdown",
   "id": "ba642903",
   "metadata": {},
   "source": [
    "## Assignment Requirements\n",
    "\n",
    "1. **Overall Project Title and Design**: Begin by naming your project and reporting your overall project design. Describe how you plan to approach the disaster response simulation as a whole.\n",
    "\n",
    "2. **Linking Tasks to the Design**: Clearly explain how each task (genetic algorithms, ACO, Minmax, game theory, Bayesian networks) fits into your overall design. Show how these tasks are expected to contribute to solving the problem.\n",
    "\n",
    "3. **Task-Specific Design**: For each task, provide detailed explanations of your approach, including any required calculations, step-by-step explanations, and referenced equations. Your written design should clearly describe how you will tackle each specific task.\n",
    "\n",
    "4. **Code Development**: Provide the corresponding code that fully implements both your task-specific design and the overall project design. You don’t need to repeat the same code in multiple sections, but you must reference and explain the code clearly in your design reporting. This ensures that your written report ties directly into your coding implementation, showing how the code achieves the project goals and the performance of each individual task.\n",
    "\n",
    "5. **Submission**: The final submission should be in the Jupyter Notebook format (.ipynb) that you downloaded. Once completed, submit this notebook as your final submission. Initial contents like instructions can be removed in your final submission. Use Markdown cells to write your design report, including explanations, calculations, and step-by-step approaches. The code for each task should be placed in the corresponding code cells, ensuring it’s well-integrated with the report. Organize your notebook clearly using appropriate heading structures. Use: # for Level 1 (main headings), ## for Level 2 (subheadings), ### for Level 3 (sub-subheadings), etc. Ensure that all code in the notebook is fully executable. Each section’s code should output relevant results that support the design made in the report. The notebook should be easy to navigate. Use comments within your code to explain key parts of the implementation where necessary. "
   ]
  },
  {
   "cell_type": "markdown",
   "id": "3abe391d",
   "metadata": {},
   "source": [
    "## Marking Guidelines\n",
    "\n",
    "- **Overall design (10 marks)**: Clear and well-structured overall project design. Proper linkage of tasks to the overall solution. Thoughtful consideration of how each method fits into the project’s goals.\n",
    "\n",
    "- **Breakdown Tasks**: Clear explanation of the design and approaches in the report and correct implementation by coding. \n",
    "    - Task 1: Genetic Algorithms (15 marks) \n",
    "    - Task 2: ACO (15 marks) \n",
    "    - Task 3: Minmax Algorithm (20 marks)\n",
    "    - Task 4: Game Theory (15 marks)\n",
    "    - Task 5: Bayesian Networks (15 marks).\n",
    "\n",
    "- **Clarity and Style for Report and Code (10 marks)**: Clear, well-structured report that explains the design and tasks effectively. Proper organization using headings and step-by-step explanations. Well-commented and easy-to-read code. Code runs correctly and produces the expected results for each task."
   ]
  },
  {
   "cell_type": "markdown",
   "id": "35bfdcf8",
   "metadata": {},
   "source": [
    "## Special Consideration and Late Submissions\n",
    "\n",
    "Unless a Special Consideration request has been submitted and approved, a **5% penalty** (ofthe total possible mark) will be applied each day a written assessment is not submitted, upuntil the 7th day (including weekends). After the 7th day, a grade of '0' will be awarded evenif the assessment is submitted. Submission time for all written assessments is set at **11:55pm**. A 1-hour grace period is provided to students who experience a technical concern.\n",
    "\n",
    "For any late submission of time-sensitive tasks, such as scheduled tests/exams, performance assessments/presentations, and/or scheduled practical assessments/labs, students need to submit an application for Special Consideration.\n",
    "\n",
    "- Assignment 1: YES, Standard Late Penalty applies\n",
    "- **Assignment 2: YES, Standard Late Penalty applies**\n",
    "\n",
    "<hr>"
   ]
  },
  {
   "cell_type": "markdown",
   "id": "e61fe965",
   "metadata": {},
   "source": [
    "_Below is the start of your Assignment 2. Edition over provided structure is allowed. Instructions and hints can be removed in your final submission._"
   ]
  },
  {
   "cell_type": "markdown",
   "id": "0f353075",
   "metadata": {},
   "source": [
    "# Project Title:"
   ]
  },
  {
   "cell_type": "markdown",
   "id": "8cf1d036",
   "metadata": {},
   "source": [
    "_Author details_\n",
    "\n",
    "- Student Name:\n",
    "- ID Number: \n",
    "- Email Address:"
   ]
  },
  {
   "cell_type": "markdown",
   "id": "cdb497f8",
   "metadata": {},
   "source": [
    "# Overall Design"
   ]
  },
  {
   "cell_type": "markdown",
   "id": "2f5f622f",
   "metadata": {},
   "source": [
    "In this assignment, it is important to recognize that the objectives may not follow a strict sequence, and the breakdown tasks are not isolated. Instead, the output of one task often becomes the input for the next, creating an interconnected system. For example, when completing Task 2 (ACO), the output of rescue paths can be the initial poputation in Task 1 (Genetic Algorithms for Path Optimization)."
   ]
  },
  {
   "cell_type": "markdown",
   "id": "3fffb734",
   "metadata": {},
   "source": [
    "## Task Breakdown \n",
    "\n",
    "### for each breakdown task\n",
    "\n",
    "Report your breakdown task contribution to the overall design and include\n",
    "\n",
    "**Goal**: \n",
    "\n",
    "**Integration:**\n",
    "\n",
    "- Input: \n",
    "- Output: \n",
    "- Next Step: \n"
   ]
  },
  {
   "cell_type": "markdown",
   "id": "61e794db",
   "metadata": {},
   "source": [
    "# Breakdown Tasks\n",
    "\n",
    "You should reorder Tasks 1-5 following the steps in your overall design. "
   ]
  },
  {
   "cell_type": "markdown",
   "id": "84bcfc23",
   "metadata": {},
   "source": [
    "## Task 1: Genetic Algorithms for Path Optimization"
   ]
  },
  {
   "cell_type": "markdown",
   "id": "af9361f2",
   "metadata": {},
   "source": [
    "report your design here. A step follows a piece of code is preferred. \n",
    "\n",
    "_hints:_ The successor of exchange might fit more to this project than mutation. Successor works on `path[1:]` as the start location is fixed."
   ]
  },
  {
   "cell_type": "code",
   "execution_count": 14,
   "id": "3c7e9736",
   "metadata": {},
   "outputs": [],
   "source": [
    "# provide your code here\n",
    "# around 7 simple functions are needed to complete this task. \n",
    "# generate_initial_population\n",
    "# fitness_function\n",
    "# selection\n",
    "# crossover\n",
    "# exchange\n",
    "# successor\n",
    "# genetic_algorithm"
   ]
  },
  {
   "cell_type": "code",
   "execution_count": 15,
   "id": "b3bb6a64",
   "metadata": {},
   "outputs": [],
   "source": [
    "class region():\n",
    "    def __init__(self, level, number, roads, fire, distances, name):\n",
    "        self.name = name\n",
    "        self.level = level\n",
    "        self.number = number\n",
    "        self.roads = roads\n",
    "        self.fire = fire\n",
    "        self.distances = distances\n",
    "\n",
    "    def __repr__(self):\n",
    "        return f\"{self.name}\"\n",
    "    \n",
    "    def __eq__(self, other):\n",
    "        if isinstance(other, region):\n",
    "            return self.number == other.number\n",
    "        return False\n",
    "    \n",
    "    def __lt__(self, other):\n",
    "        return self.number < other.number"
   ]
  },
  {
   "cell_type": "code",
   "execution_count": 16,
   "id": "c431b1b2",
   "metadata": {},
   "outputs": [],
   "source": [
    "class rescuer():\n",
    "    def __init__(self, home, speed, rate, name, role):\n",
    "        self.name = name\n",
    "        self.home = home\n",
    "        self.location = home\n",
    "        self.speed = speed\n",
    "        self.rate = rate\n",
    "        self.visited = []\n",
    "        self.visited.append(home)\n",
    "        self.time_to_dest = 0\n",
    "        self.destination = home\n",
    "        self.role = role\n",
    "        self.cur_path = []\n",
    "        self.total_path = []\n",
    "        \n",
    "    def isFireman(self):\n",
    "        return self.role.lower() == \"fireman\""
   ]
  },
  {
   "cell_type": "markdown",
   "id": "d7383378",
   "metadata": {},
   "source": [
    "## Task 2: Ant Colony Optimization (ACO) for Multi-Agent Coordination"
   ]
  },
  {
   "cell_type": "markdown",
   "id": "4b6df3a9",
   "metadata": {},
   "source": [
    "report your design here. A step follows a piece of code is preferred. \n",
    "\n",
    "_hints:_ Fire trucks and polices need to be handled seperately when implementing ACO. \n",
    "\n",
    "Similar to the calculation of the averaged blockages between two regions, the pheromone level can be determined by averaging the conditions of the two connected regions. For example, $\\rho^{\\text{fire}}_{R_1R_2} = 1 - [\\text{fire damage}(R1)+\\text{fire damage}(R2)]/2/100$.\n",
    "\n",
    "Additionally, the equations are provided for your convenience in reporting.\n",
    "\n",
    "$$\\tau_{ij} \\leftarrow \\text{Evaporation}(\\tau_{ij})$$ \n",
    "\n",
    "$$\\tau_{ij} \\leftarrow \\text{Rescue}(\\tau_{ij})$$ \n",
    "\n",
    "where `Evaporation` can be fire spread or aftershock, `Rescue` can be from a unit of fire truck or a unit of police.\n",
    "\n",
    "$$\\eta_{ij}=1/d_{ij}$$\n",
    "\n",
    "$$p^k_{ij}=\\frac{[\\tau_{ij}]^\\alpha[\\eta_{ij}]^\\beta}{\\sum_{l\\in N_k(i)}[\\tau_{il}]^\\alpha[\\eta_{il}]^\\beta}$$"
   ]
  },
  {
   "cell_type": "code",
   "execution_count": 17,
   "id": "aa77b8fe",
   "metadata": {},
   "outputs": [],
   "source": [
    "import random\n",
    "import sys"
   ]
  },
  {
   "cell_type": "code",
   "execution_count": null,
   "id": "9808b2df",
   "metadata": {},
   "outputs": [],
   "source": [
    "def evaporate_pheromones(state, regions, total):\n",
    "    if (state == \"fire\"):\n",
    "        for v in regions:\n",
    "            v.fire += 10\n",
    "            total += 10\n",
    "    elif (state == \"roads\"):\n",
    "        for v in regions:\n",
    "            v.roads += 10\n",
    "            total += 10\n",
    "    return total, regions\n",
    "\n",
    "def deposit_pheromones(rescuer, fire_total, roads_total):\n",
    "    if (rescuer.isFireman()):\n",
    "        if (rescuer.location.fire > 10):\n",
    "            rescuer.location.fire -= rescuer.rate\n",
    "            fire_total -= rescuer.rate\n",
    "            return fire_total, roads_total\n",
    "        else:\n",
    "            fire_total -= rescuer.location.fire\n",
    "            rescuer.location.fire = 0\n",
    "            return fire_total, roads_total\n",
    "    else:\n",
    "        if (rescuer.location.roads > 10):\n",
    "            rescuer.location.roads -= rescuer.rate\n",
    "            roads_total -= rescuer.rate\n",
    "            return fire_total, roads_total\n",
    "        else:\n",
    "            roads_total -= rescuer.location.roads\n",
    "            rescuer.location.roads = 0\n",
    "            return fire_total, roads_total\n",
    "        \n",
    "def average(f1, f2):\n",
    "    f3 = f1+f2\n",
    "    return f3/2\n",
    "\n",
    "def choose_next_region(rescuer, regions):\n",
    "    probabilites = [] # This holds the probabilities for moving to each different location\n",
    "    heuristic = [] # This holds the heuristic value (average * pheromone) for each location\n",
    "    sum = 0\n",
    "    if (sorted(rescuer.visited) == sorted(regions)):\n",
    "        rescuer.visited.clear()\n",
    "        return [rescuer.home]\n",
    "    else:\n",
    "        for i,v in enumerate(regions):\n",
    "            if (rescuer.isFireman()):\n",
    "                if (v != rescuer.location) and (v not in rescuer.visited) and (v.fire != 0): # If the location is not current location, and hasn't been visited\n",
    "                    heuristic.append((average(v.fire, rescuer.location.fire)))\n",
    "                    sum += heuristic[i]\n",
    "                else:\n",
    "                    heuristic.append(0) # If the location is current or has been visited append 0\n",
    "            else:\n",
    "                if (v != rescuer.location) and (v not in rescuer.visited) and (v.roads != 0): # If the location is not current location, and hasn't been visited\n",
    "                    heuristic.append((average(v.roads, rescuer.location.roads)))\n",
    "                    sum += heuristic[i]\n",
    "                else:\n",
    "                    heuristic.append(0) # If the location is current or has been visited append 0\n",
    "        for i,v in enumerate(heuristic):\n",
    "            if (sum == 0):\n",
    "                rescuer.visited.clear()\n",
    "                return [rescuer.home]\n",
    "            probabilites.append(v/sum) # Generates the ant colony optimsation probability\n",
    "\n",
    "        next_region = (random.choices(regions, weights = probabilites, k = 1))\n",
    "        return next_region\n",
    "    \n",
    "# def edge_travel_time(rescuer, location):\n",
    "#     percentage = round(average(rescuer.location.roads, location.roads)/100, 2)\n",
    "#     percentage = 1 - percentage\n",
    "#     speed = round(60*percentage, 2)\n",
    "#     distance = round(rescuer.location.distances[location.number], 2)\n",
    "#     time = round(distance/speed, 2)\n",
    "#     time *= 60\n",
    "#     rescuer.time_to_dest = round(time, 2)\n",
    "#     return round(time,2)\n",
    "\n",
    "def edge_travel_time(rescuer, location):\n",
    "    percentage = round(average(rescuer.location.roads, location.roads) / 100, 2)\n",
    "    percentage = 1 - percentage\n",
    "    speed = round(60 * percentage, 2)\n",
    "    distance = round(rescuer.location.distances[location.number], 2)\n",
    "    time = distance / speed * 3600  # Convert time to seconds\n",
    "    rescuer.time_to_dest = int(time)  # Store as an integer\n",
    "    return int(time)  # Return as an integer\n",
    "\n",
    "\n",
    "def simulate_agent_path(rescuer, location, fire_total, roads_total):\n",
    "    rescuer.time_to_dest = edge_travel_time(rescuer,location)\n",
    "    rescuer.location = location\n",
    "    rescuer.visited.append(location)\n",
    "    if (rescuer.location == rescuer.home):\n",
    "        rescuer.total_path.append(rescuer.cur_path)\n",
    "        rescuer.cur_path.clear()\n",
    "    else:\n",
    "        rescuer.cur_path.append(rescuer.location)\n",
    "    new_fire_total, new_roads_total = deposit_pheromones(rescuer, fire_total, roads_total)\n",
    "    return new_fire_total, new_roads_total\n",
    "\n",
    "# def find_regions_and_time(fire_total, roads_total ,regions, rescuers, lowest_time):\n",
    "#     for r in rescuers:\n",
    "\n",
    "#         if (r.isFireman()) and (fire_total > 0): # Checks if the rescuer is a fireman, and if there is still fire\n",
    "#             if (r.location == r.destination): # Checks if the rescuer's current location matches its destanation (i.e. its finished travelling)\n",
    "#                 r.destination = choose_next_region(r, regions)[0] # Finds a new destination for the rescuer\n",
    "#                 r.time_to_dest = edge_travel_time(r, r.destination) # Finds the time between the new destination and current location\n",
    "\n",
    "#         elif (r.isFireman()) and (fire_total == 0): \n",
    "#             r.time_to_dest = 0 # If there are no fires, halt the firetrucks\n",
    "\n",
    "#         elif (r.isFireman() == False) and (roads_total > 0): # Same as above but checks if the rescuer is police, and if there is still damage on the roads\n",
    "#             if (r.location == r.destination): # Checks if the rescuer's current location matches its destanation (i.e. its finished travelling)\n",
    "#                 r.destination = choose_next_region(r, regions)[0] # Finds a new destination for the rescuer\n",
    "#                 r.time_to_dest = edge_travel_time(r, r.destination) # Finds the time between the new destination and current location\n",
    "\n",
    "#         elif (r.isFireman() == False) and (roads_total == 0):   \n",
    "#             r.time_to_dest = 0   # If there is no road damage, halt the police\n",
    "    \n",
    "#     for r in rescuers: # Iterates through rescuers, checking too see if the rescuer is a fireman/police and that there is still fires or damage on the roads\n",
    "#         if (r.isFireman()) and (fire_total > 0):\n",
    "#             if (r.time_to_dest < lowest_time):\n",
    "#                 lowest_time = r.time_to_dest # Finds the lowest value\n",
    "#                 print(f\"new value of lowest_time is {lowest_time}\")\n",
    "#                 rescuer = r # Finds the rescuer with the lowest value\n",
    "\n",
    "#         elif (r.isFireman() == False) and (roads_total > 0):\n",
    "#             if (r.time_to_dest) < lowest_time:\n",
    "#                 lowest_time = r.time_to_dest # Finds the lowest value\n",
    "#                 print(f\"new value of lowest_time is {lowest_time}\")\n",
    "#                 rescuer = r # Finds the rescuer with the lowest value\n",
    "    \n",
    "#     return rescuers, lowest_time, rescuer"
   ]
  },
  {
   "cell_type": "code",
   "execution_count": 19,
   "id": "89e52346",
   "metadata": {},
   "outputs": [],
   "source": [
    "# def timer(fire_total, roads_total, total_time, fire_time, roads_time, regions, rescuers):\n",
    "#     lowest_time = 1000000\n",
    "#     rescuer = None\n",
    "#     rescuers, lowest_time, rescuer = find_regions_and_time(fire_total, roads_total ,regions, rescuers, lowest_time)\n",
    "\n",
    "#     if (total_time >= fire_time): # Checks if more than 10 minutes has passed, and if so adds more fire\n",
    "#         fire_total, regions = evaporate_pheromones(\"fire\", regions, fire_total)\n",
    "#         fire_time += 600 # Increases the time, so now it sees if total time > 20 minutes, and then total time > 30 minutes, etc..\n",
    "#         print(f\"fire increasing! The new fire_total is {fire_total}\\n\") \n",
    "\n",
    "#     if (total_time >= roads_time): # Checks if more than 15 minutes has passed, and if so adds more rubble\n",
    "#         roads_total, regions = evaporate_pheromones(\"roads\", regions, roads_total)  \n",
    "#         roads_time += 900 # Increases the time, so now it sees if total time > 30 minutes, and then total time > 45 minutes, etc..\n",
    "#         print(f\"roads increasing! The new roads_total is {roads_total}\\n\")\n",
    "\n",
    "#     for r in rescuers: # If the rescuer is not at its destination already, subtracts the smalletst time for a rescuer from all the other rescuers. E.g. P1 will be at R1 in 5 minutes, and P2 will be at R2 in 10 miuntes. Subtract 5 from both, so now P1 is at 0 and R2 is at 5\n",
    "#         if (r.time_to_dest > 0):\n",
    "#             r.time_to_dest -= lowest_time \n",
    "\n",
    "#     total_time += lowest_time # Adds the time every other rescuer got subtracted by\n",
    "    \n",
    "#     if (rescuer != None):\n",
    "        \n",
    "#         if (rescuer.isFireman() == True) and (fire_total > 0): # Checks if there is still fire and then sends the rescuer out\n",
    "#             fire_total, roads_total = simulate_agent_path(rescuer, rescuer.destination, fire_total, roads_total) \n",
    "#             print(str(rescuer.name) + \" has arrived at \" + str(rescuer.destination))\n",
    "\n",
    "#         elif (rescuer.isFireman() == False) and (roads_total > 0): # Checks if there is still rubble and then sends the rescuer out\n",
    "#             fire_total, roads_total = simulate_agent_path(rescuer, rescuer.destination, fire_total, roads_total) \n",
    "#             print(str(rescuer.name) + \" has arrived at \" + str(rescuer.destination))\n",
    "\n",
    "#     return fire_total, roads_total, total_time, fire_time, roads_time, regions, rescuers"
   ]
  },
  {
   "cell_type": "code",
   "execution_count": null,
   "id": "c1af8e4c",
   "metadata": {},
   "outputs": [],
   "source": [
    "def timer(fire_total, roads_total, total_time, fire_time, roads_time, regions, rescuers):\n",
    "    lowest_time = 1000000\n",
    "    rescuer = None\n",
    "    for r in rescuers:\n",
    "        if (r.location == r.destination): # Finds a new destination for all rescuers who need it, and then finds the rescuer closest to their destination\n",
    "            if (r.isFireman()) and (fire_total > 0):\n",
    "                r.destination = choose_next_region(r, regions)[0] # Finds a new destination for the rescuer\n",
    "                r.time_to_dest = edge_travel_time(r, r.destination) # Finds the time between the new destination and current location\n",
    "            elif (r.isFireman() == False) and (roads_total > 0):\n",
    "                r.destination = choose_next_region(r, regions)[0] # Finds a new destination for the rescuer\n",
    "                r.time_to_dest = edge_travel_time(r, r.destination) # Finds the time between the new destination and current location\n",
    "        if (r.location != r.destination) and (r.time_to_dest < lowest_time):\n",
    "            lowest_time = r.time_to_dest # Finds the lowest value\n",
    "            rescuer = r\n",
    "    \n",
    "    if (total_time >= fire_time): # Checks if more than 10 minutes has passed, and if so adds more fire\n",
    "        fire_total, regions = evaporate_pheromones(\"fire\", regions, fire_total)\n",
    "        fire_time += 600 # Increases the time, so now it sees if total time > 20 minutes, and then total time > 30 minutes, etc..\n",
    "        print(f\"fire increasing! The new fire_total is {fire_total}\\n\") \n",
    "\n",
    "    if (total_time >= roads_time): # Checks if more than 15 minutes has passed, and if so adds more rubble\n",
    "        roads_total, regions = evaporate_pheromones(\"roads\", regions, roads_total)  \n",
    "        roads_time += 900 # Increases the time, so now it sees if total time > 30 minutes, and then total time > 45 minutes, etc..\n",
    "        print(f\"roads increasing! The new roads_total is {roads_total}\\n\")\n",
    "\n",
    "    total_time += lowest_time # Adds the time every other rescuer got subtracted by\n",
    "\n",
    "    for r in rescuers: # If the rescuer is not at its destination already, subtracts the smalletst time for a rescuer from all the other rescuers. E.g. P1 will be at R1 in 5 minutes, and P2 will be at R2 in 10 miuntes. Subtract 5 from both, so now P1 is at 0 and R2 is at 5\n",
    "        if (r.isFireman()) and (fire_total > 0):\n",
    "            r.time_to_dest -= lowest_time \n",
    "            if (r.time_to_dest < 0):\n",
    "                print(f\"Negative found at {r}\")\n",
    "        elif (r.isFireman() == False) and (roads_total > 0):\n",
    "            r.time_to_dest -= lowest_time \n",
    "            if (r.time_to_dest < 0):\n",
    "                print(f\"Negative found at {r}\")\n",
    "    \n",
    "    if (rescuer != None):\n",
    "        print(f\"Rescuer {rescuer} is going to {rescuer.destination}\")\n",
    "        fire_total, roads_total = simulate_agent_path(rescuer, rescuer.destination, fire_total, roads_total) \n",
    "\n",
    "    return fire_total, roads_total, total_time, fire_time, roads_time, regions, rescuers"
   ]
  },
  {
   "cell_type": "code",
   "execution_count": 21,
   "id": "82f6ccc5",
   "metadata": {},
   "outputs": [],
   "source": [
    "R1 = region(\"H\", 0, 60, 35 , [0,5,7,4,6], \"R1\")\n",
    "R2 = region(\"M\", 1, 40, 25 , [5,0,3,4,8], \"R2\")\n",
    "R3 = region(\"M\", 2, 15, 5 , [7,3,0,5,6], \"R3\")\n",
    "R4 = region(\"H\", 3, 35, 30 , [4,4,5,0,4], \"R4\")\n",
    "R5 = region(\"L\", 4, 5, 3 , [6,8,6,4,0], \"R5\")\n",
    "\n",
    "regions = [R1, R2, R3, R4, R5]\n",
    "\n",
    "P1 = rescuer(R4, 60, 10, \"P1\", \"police\")\n",
    "P2 = rescuer(R4, 60, 10, \"P2\", \"police\")\n",
    "P3 = rescuer(R4, 60, 10, \"P3\", \"police\")\n",
    "P4 = rescuer(R4, 60, 10, \"P4\", \"police\")\n",
    "P5 = rescuer(R4, 60, 10, \"P5\", \"police\")\n",
    "P6 = rescuer(R4, 60, 10, \"P6\", \"police\")\n",
    "F1 = rescuer(R2, 60, 10, \"F1\", \"fireman\")\n",
    "F2 = rescuer(R2, 60, 10, \"F2\", \"fireman\")\n",
    "F3 = rescuer(R2, 60, 10, \"F3\", \"fireman\")\n",
    "F4 = rescuer(R2, 60, 10, \"F4\", \"fireman\")\n",
    "F5 = rescuer(R2, 60, 10, \"F5\", \"fireman\")\n",
    "F6 = rescuer(R2, 60, 10, \"F6\", \"fireman\")\n",
    "F7 = rescuer(R2, 60, 10, \"F7\", \"fireman\")\n",
    "F8 = rescuer(R2, 60, 10, \"F8\", \"fireman\")\n",
    "\n",
    "rescuers = [F1, F2, F3, F4, F5, F6, F7, F8, P1, P2, P3, P4, P5, P6]"
   ]
  },
  {
   "cell_type": "code",
   "execution_count": null,
   "id": "1979047e",
   "metadata": {},
   "outputs": [
    {
     "ename": "AttributeError",
     "evalue": "'rescuer' object has no attribute 'paths'",
     "output_type": "error",
     "traceback": [
      "\u001b[1;31m---------------------------------------------------------------------------\u001b[0m",
      "\u001b[1;31mAttributeError\u001b[0m                            Traceback (most recent call last)",
      "Cell \u001b[1;32mIn[24], line 21\u001b[0m\n\u001b[0;32m     19\u001b[0m     \u001b[38;5;28mprint\u001b[39m(\u001b[38;5;124m\"\u001b[39m\u001b[38;5;130;01m\\n\u001b[39;00m\u001b[38;5;124m\"\u001b[39m)\n\u001b[0;32m     20\u001b[0m \u001b[38;5;28;01mfor\u001b[39;00m r \u001b[38;5;129;01min\u001b[39;00m rescuers:\n\u001b[1;32m---> 21\u001b[0m     \u001b[43mr\u001b[49m\u001b[38;5;241;43m.\u001b[39;49m\u001b[43mpaths\u001b[49m\u001b[38;5;241m.\u001b[39mappend(r\u001b[38;5;241m.\u001b[39mpath)\n\u001b[0;32m     22\u001b[0m     \u001b[38;5;28mprint\u001b[39m(\u001b[38;5;124mf\u001b[39m\u001b[38;5;124m\"\u001b[39m\u001b[38;5;124mThe rescuer paths are \u001b[39m\u001b[38;5;132;01m{\u001b[39;00mr\u001b[38;5;241m.\u001b[39mpaths\u001b[38;5;132;01m}\u001b[39;00m\u001b[38;5;124m\"\u001b[39m)\n\u001b[0;32m     23\u001b[0m \u001b[38;5;28mprint\u001b[39m(\u001b[38;5;124mf\u001b[39m\u001b[38;5;124m\"\u001b[39m\u001b[38;5;124mThe simulation is complete! All fires have been put out and blockages cleared in \u001b[39m\u001b[38;5;132;01m{\u001b[39;00mminutes\u001b[38;5;132;01m}\u001b[39;00m\u001b[38;5;124m minutes and \u001b[39m\u001b[38;5;132;01m{\u001b[39;00mseconds\u001b[38;5;132;01m}\u001b[39;00m\u001b[38;5;124m seconds.\u001b[39m\u001b[38;5;124m\"\u001b[39m)\n",
      "\u001b[1;31mAttributeError\u001b[0m: 'rescuer' object has no attribute 'paths'"
     ]
    }
   ],
   "source": [
    "fire_total = 0\n",
    "time_total = 0\n",
    "roads_total = 0\n",
    "fire_time = 600\n",
    "roads_time = 900\n",
    "for v in regions:\n",
    "    fire_total = fire_total + v.fire\n",
    "    roads_total = roads_total + v.roads\n",
    "while (fire_total > 0) or (roads_total > 0):\n",
    "    fire_total, roads_total, time_total, fire_time, roads_time, regions, rescuers = timer(fire_total, roads_total, time_total, fire_time, roads_time, regions, rescuers)\n",
    "    # Assuming `time_total` is in seconds\n",
    "    minutes = time_total // 60  # Get the whole number of minutes\n",
    "    seconds = time_total % 60   # Get the remaining seconds\n",
    "\n",
    "    # Print in the desired format\n",
    "    print(f\"The fire total is {fire_total}\")\n",
    "    print(f\"The road blockage total is {roads_total}\")\n",
    "    print(f\"The total time is {minutes} minutes and {seconds} seconds\")\n",
    "    print(\"\\n\")\n",
    "for r in rescuers:\n",
    "    r.total_path.append(r.cur_path)\n",
    "    print(f\"The rescuer paths are {r.total_path}\")\n",
    "print(f\"The simulation is complete! All fires have been put out and blockages cleared in {minutes} minutes and {seconds} seconds.\")\n"
   ]
  },
  {
   "cell_type": "markdown",
   "id": "09ac383f",
   "metadata": {},
   "source": [
    "## Task 3: Minmax Algorithm with Alpha-Beta Pruning and Enhancements"
   ]
  },
  {
   "cell_type": "markdown",
   "id": "ae23ae49",
   "metadata": {},
   "source": [
    "report your design here. A step follows a piece of code is preferred.\n",
    "\n",
    "_hints:_\n",
    "\n",
    "Who is **Max Player**?\n",
    "\n",
    "Who is **Min Player**?\n",
    "\n",
    "**Game tree construction** Any data should be prepared by pre-computation? Utility?\n",
    "\n",
    "|            |       |     |      |         |      |\n",
    "| ---------- |  -----|-----|------|-------- | -----|\n",
    "|`path[0]`   |  Max  |     |      |  #units   |    |\n",
    "|            |       |     |      |     l     |    |\n",
    "|            | Min   |     |      |     fires |    |\n",
    "|            |       |   / |    / |       l   | \\  |\n",
    "|`path[1]`   | Max   |  #units  | #units-1| ...|  1   |\n",
    "|            |       |   l |  l   |            |     |\n",
    "|            | Min   |fires|fires |  ...   |         |\n",
    "|`path[2]`   | ...   |  ...|//...l...\\\\   |   ...   |       |\n",
    "|      ...   |       |     | #units-1 .... 1     |  ...    |     |\n",
    "|`path[4]`   |  ...  | ... |  ... |  ...    |  ... |\n",
    "\n",
    "Start with total number of units of agents at `path[0]`. For each region `path[i]`, the number units of agents assigned can be from the available units at that point down to one. Compute all possible allocations for the regions (`path[1]`, `path[2]`, `path[3]`, `path[4]`) based on the remaining units after allocation at the current region. Recursively list all possible combinations of allocations along the path."
   ]
  },
  {
   "cell_type": "code",
   "execution_count": null,
   "id": "3f167e83",
   "metadata": {},
   "outputs": [],
   "source": [
    "# provide your code here"
   ]
  },
  {
   "cell_type": "markdown",
   "id": "7b0448e2",
   "metadata": {},
   "source": [
    "## Task 4: Game Theory for Multi-Agent Systems"
   ]
  },
  {
   "cell_type": "markdown",
   "id": "b5c85a2a",
   "metadata": {},
   "source": [
    "report your design here. A step follows a piece of code is preferred. \n",
    "\n",
    "_hints:_ You can develop payoff matrices to determine optimal parameter values in this project by selecting the best value from a list of candidate options based on your design. A common approach is to evaluate parameter candidates by testing a range of values in defined steps. For example, the `parameter` can take values from the set `{0, 1, 2, 3, 4}` in steps of 1. Then, the set is a list of actions for one player in game theory. Accordingly, you need to initial a all-zero payoff matrix to compute its payoff values. `payoffs = [[0 for _ in range(len(action_payer1))] for _ in range(len(action_payer2))]`."
   ]
  },
  {
   "cell_type": "code",
   "execution_count": null,
   "id": "b5b0b2eb",
   "metadata": {},
   "outputs": [],
   "source": [
    "# provide your code here"
   ]
  },
  {
   "cell_type": "markdown",
   "id": "6a42b2d7",
   "metadata": {},
   "source": [
    "## Task 5: Bayesian Networks for Uncertain Inferences"
   ]
  },
  {
   "cell_type": "markdown",
   "id": "5bc1b99e",
   "metadata": {},
   "source": [
    "report your design here. A step follows a piece of code is preferred. \n",
    "\n",
    "_hints:_ Given a rescue scenario and a specific path, what are the variables to consider? Based on the available information, you will need to construct the topology of a Bayesian network, identifying dependencies between the variables, and then calculate the Conditional Probability Tables (CPTs) for each node in the network. Finally, make the inference contribute to the rescue optimization. "
   ]
  },
  {
   "cell_type": "code",
   "execution_count": null,
   "id": "14d8a942",
   "metadata": {},
   "outputs": [],
   "source": [
    "# provide your code here"
   ]
  },
  {
   "cell_type": "markdown",
   "id": "184c5e07",
   "metadata": {},
   "source": [
    "# Overall Running"
   ]
  },
  {
   "cell_type": "markdown",
   "id": "a6697bf4",
   "metadata": {},
   "source": [
    "You need to provide the overall rescure results by code running based on your overall design and breakdown task designs. It is preferred to put `functions` in the breakdown task above and execute them in the overall running here.  "
   ]
  },
  {
   "cell_type": "code",
   "execution_count": null,
   "id": "981c1a88",
   "metadata": {},
   "outputs": [],
   "source": [
    "# provide your code here"
   ]
  },
  {
   "cell_type": "markdown",
   "id": "7b121817",
   "metadata": {},
   "source": [
    "# Conclustion and Discussion"
   ]
  },
  {
   "cell_type": "markdown",
   "id": "09b42ef6",
   "metadata": {},
   "source": [
    "provide your conclustion and discussion"
   ]
  }
 ],
 "metadata": {
  "kernelspec": {
   "display_name": "Python 3",
   "language": "python",
   "name": "python3"
  },
  "language_info": {
   "codemirror_mode": {
    "name": "ipython",
    "version": 3
   },
   "file_extension": ".py",
   "mimetype": "text/x-python",
   "name": "python",
   "nbconvert_exporter": "python",
   "pygments_lexer": "ipython3",
   "version": "3.12.3"
  }
 },
 "nbformat": 4,
 "nbformat_minor": 5
}
